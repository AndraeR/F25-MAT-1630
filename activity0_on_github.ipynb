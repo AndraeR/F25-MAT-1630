{
  "nbformat": 4,
  "nbformat_minor": 0,
  "metadata": {
    "colab": {
      "provenance": [],
      "include_colab_link": true
    },
    "kernelspec": {
      "name": "python3",
      "display_name": "Python 3"
    },
    "language_info": {
      "name": "python"
    }
  },
  "cells": [
    {
      "cell_type": "markdown",
      "metadata": {
        "id": "view-in-github",
        "colab_type": "text"
      },
      "source": [
        "<a href=\"https://colab.research.google.com/github/AndraeR/F25-MAT-1630/blob/main/activity0_on_github.ipynb\" target=\"_parent\"><img src=\"https://colab.research.google.com/assets/colab-badge.svg\" alt=\"Open In Colab\"/></a>"
      ]
    },
    {
      "cell_type": "markdown",
      "source": [
        "##Activity 0 (GitHub).\n",
        " This activity is designed to test that the succesful use of GitHub with the repository you have forked.\n",
        "\n",
        "**Exercise:** *Write a program that reads an integer and prints whether it is negative, zero, or\n",
        "positive.*"
      ],
      "metadata": {
        "id": "pWBgGyVS48p6"
      }
    },
    {
      "cell_type": "markdown",
      "source": [],
      "metadata": {
        "id": "3W419-W_5ard"
      }
    },
    {
      "cell_type": "code",
      "source": [],
      "metadata": {
        "id": "YKcjUc-h8Y_n"
      },
      "execution_count": null,
      "outputs": []
    },
    {
      "cell_type": "code",
      "source": [
        "## code goes here\n",
        "\n",
        "#First we need a variable that will store the user input.\n",
        "#Then we will create a function that will use simple boolean logic to determine if the interger is positive, negative or zero.\n",
        "\n",
        "#First the user variable.\n",
        "usrInt = (input(\"Please input an integer: \"))\n",
        "\n",
        "\n",
        "#The input should be validated\n",
        "#while (usrInt.isdigit() == False):\n",
        " # usrInt = (input(\"Please enter a valid integer: \"))\n",
        "\n",
        "\n",
        "\n",
        "#This function will take one parameter and then return what kind of integer it is\n",
        "def checkInt(a):\n",
        "  #We need a simple string to return\n",
        "  value = \"Error Detected!\"\n",
        "\n",
        "  a = int(a)\n",
        "\n",
        "  if (a < 0):\n",
        "    value = \"Negative\"\n",
        "    return value\n",
        "  elif(a > 0):\n",
        "    value = \"Positive\"\n",
        "    return value\n",
        "  elif(a == 0):\n",
        "    value = \"Zero\"\n",
        "    return value\n",
        "  else:\n",
        "    return value\n",
        "\n",
        "\n",
        "#Now we call the function via print to put the result on the screen.\n",
        "print(\"The number is: \", checkInt(usrInt))"
      ],
      "metadata": {
        "id": "alhjPK7J5d1e"
      },
      "execution_count": null,
      "outputs": []
    },
    {
      "cell_type": "markdown",
      "source": [
        "\n",
        "\n",
        "\n",
        "\n",
        "\n",
        "\n",
        "1.   this is published on the course repository\n",
        "2.   click the “Open in Colab” badge/link provided in the repo\n",
        "3.   add your solution and/or modifications in Colab\n",
        "4.   from Colab, save in GitHub to the forked repository\n",
        "5. “pull request” (comment what is the pull request about)\n",
        "6. \"merge\"\n",
        "\n",
        "\n"
      ],
      "metadata": {
        "id": "PFiONV-U5fuW"
      }
    }
  ]
}