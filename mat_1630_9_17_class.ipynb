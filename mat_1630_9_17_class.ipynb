{
  "nbformat": 4,
  "nbformat_minor": 0,
  "metadata": {
    "colab": {
      "provenance": [],
      "include_colab_link": true
    },
    "kernelspec": {
      "name": "python3",
      "display_name": "Python 3"
    },
    "language_info": {
      "name": "python"
    }
  },
  "cells": [
    {
      "cell_type": "markdown",
      "metadata": {
        "id": "view-in-github",
        "colab_type": "text"
      },
      "source": [
        "<a href=\"https://colab.research.google.com/github/AndraeR/F25-MAT-1630/blob/main/mat_1630_9_17_class.ipynb\" target=\"_parent\"><img src=\"https://colab.research.google.com/assets/colab-badge.svg\" alt=\"Open In Colab\"/></a>"
      ]
    },
    {
      "cell_type": "markdown",
      "source": [
        "# Common loops\n"
      ],
      "metadata": {
        "id": "02zMO_EY99BF"
      }
    },
    {
      "cell_type": "markdown",
      "source": [
        "## Sum and Average Values\n"
      ],
      "metadata": {
        "id": "8hMHZS8897aw"
      }
    },
    {
      "cell_type": "code",
      "source": [
        "total = 0.0\n",
        "inputStr = input(\"Enter value: \")\n",
        "while inputStr != \"\" :\n",
        "   value = float(inputStr)\n",
        "   total = total + value\n",
        "   inputStr = input(\"Enter value: \")\n",
        "print(total)"
      ],
      "metadata": {
        "colab": {
          "base_uri": "https://localhost:8080/"
        },
        "id": "k8xgO61z-HL2",
        "outputId": "4c9b82b9-6f6f-4123-d98d-a758a84c595d"
      },
      "execution_count": null,
      "outputs": [
        {
          "output_type": "stream",
          "name": "stdout",
          "text": [
            "Enter value: 34\n",
            "Enter value: 40\n",
            "Enter value: 9\n",
            "Enter value: 12\n",
            "Enter value: 8\n",
            "Enter value: \n",
            "103.0\n"
          ]
        }
      ]
    },
    {
      "cell_type": "markdown",
      "source": [
        "Modify to stop adding values\n"
      ],
      "metadata": {
        "id": "QtbDNJdD-q0q"
      }
    },
    {
      "cell_type": "markdown",
      "source": [
        "**Exercise:** Fix and improve this code:\n"
      ],
      "metadata": {
        "id": "O0XG8c_E_h0R"
      }
    },
    {
      "cell_type": "code",
      "source": [
        "total = 0.0\n",
        "count = 0\n",
        "inputStr = input(\"Enter value: \")\n",
        "while inputStr != \"\" :\n",
        "\n",
        "  value = float(inputStr)\n",
        "  total = total + value\n",
        "  count = count + 1\n",
        "  inputStr = input(\"Enter value: \")\n",
        "\n",
        "if count > 0 :\n",
        "   average = total / count\n",
        "else :\n",
        "   average = 0.0\n",
        "\n",
        "print(average)\n"
      ],
      "metadata": {
        "colab": {
          "base_uri": "https://localhost:8080/"
        },
        "id": "vg2VJVef_rKp",
        "outputId": "e974ac98-b09d-44c0-ad13-33b4bc0df7df"
      },
      "execution_count": null,
      "outputs": [
        {
          "output_type": "stream",
          "name": "stdout",
          "text": [
            "Enter value: 40\n",
            "Enter value: 30\n",
            "Enter value: 20\n",
            "Enter value: \n",
            "30.0\n"
          ]
        }
      ]
    },
    {
      "cell_type": "markdown",
      "source": [
        "# Functions (Review)"
      ],
      "metadata": {
        "id": "LFz9QMvz_y7X"
      }
    },
    {
      "cell_type": "code",
      "source": [
        "##\n",
        "# This program computes the volumes of two cubes.\n",
        "#\n",
        "\n",
        "def main() :\n",
        "    result1 = cubeVolume(2)\n",
        "    result2 = cubeVolume(10)\n",
        "    print(\"A cube with side length 2 has volume\", result1)\n",
        "    print(\"A cube with side length 10 has volume\", result2)\n",
        "\n",
        "## Computes the volume of a cube.\n",
        "# @param sideLength the length of a side of the cube\n",
        "# @return the volume of the cube\n",
        "#\n",
        "def cubeVolume(sideLength) :\n",
        "    volume = sideLength ** 3\n",
        "    return volume\n",
        "\n",
        "# Start the program.\n",
        "main()"
      ],
      "metadata": {
        "colab": {
          "base_uri": "https://localhost:8080/"
        },
        "id": "RKVrKY9bA5Py",
        "outputId": "4464f35f-bb9c-4d10-809e-cc3346369f34"
      },
      "execution_count": null,
      "outputs": [
        {
          "output_type": "stream",
          "name": "stdout",
          "text": [
            "A cube with side length 2 has volume 8\n",
            "A cube with side length 10 has volume 1000\n"
          ]
        }
      ]
    },
    {
      "cell_type": "markdown",
      "source": [
        "**Exercise** Write the following functions and provide a program to test them.\n",
        " * def smallest(x, y, z) (returning the smallest of the arguments)\n",
        "\n",
        "\n",
        "* def average(x, y, z) (returning the average of the arguments)"
      ],
      "metadata": {
        "id": "cN4KUzcqDSCT"
      }
    },
    {
      "cell_type": "code",
      "source": [
        "#We will be finding the smallest of three provided numbers through a competition system implemented in a function.\n",
        "\n",
        "#our three variables input by the user.\n",
        "num1 = int(input(\"Input a number: \"))\n",
        "num2 = int(input(\"Input a number: \"))\n",
        "num3 = int(input(\"Input a number: \"))\n",
        "\n",
        "#Now we create a function to handle the numbers.\n",
        "def smallest(a, b, c):\n",
        "  #we want an initial smallest number.\n",
        "  smallest = a\n",
        "\n",
        "  #Now the competition begins.\n",
        "  if(b < a):\n",
        "    smallest = b\n",
        "    if (c < b):\n",
        "      smallest = c\n",
        "  elif( c < a):\n",
        "    smallest = c\n",
        "\n",
        "\n",
        "  return smallest\n",
        "\n",
        "#Now we pass the function our parameters then print the result.\n",
        "print(\"The smallest number is: \", smallest(num1, num2, num3))\n",
        "\n",
        "#Now we need to create a function to get the average of those inputed numbers.\n",
        "def average(a, b, c):\n",
        "\n",
        "  #need a variable to store the average and we want decimal result\n",
        "  average = float(a + b + c) /3\n",
        "  return average\n",
        "\n",
        "#Now we print the function via our parameters.\n",
        "print(\"The average is: \", average(num1, num2, num3))\n",
        "\n",
        "\n"
      ],
      "metadata": {
        "colab": {
          "base_uri": "https://localhost:8080/"
        },
        "id": "WkPRng1HPYAX",
        "outputId": "6ee50bc8-369e-4d7b-b101-e7d85281eddf"
      },
      "execution_count": null,
      "outputs": [
        {
          "output_type": "stream",
          "name": "stdout",
          "text": [
            "Input a number: 3\n",
            "Input a number: 4\n",
            "Input a number: 5\n",
            "The smallest number is:  3\n",
            "The average is:  4.0\n"
          ]
        }
      ]
    },
    {
      "cell_type": "markdown",
      "source": [
        "# What's a list?"
      ],
      "metadata": {
        "id": "qLJgJ7ZiETgZ"
      }
    },
    {
      "cell_type": "markdown",
      "source": [
        "A list is an ordered, mutable collection of items. Items can be any type (numbers, strings, even other lists)."
      ],
      "metadata": {
        "id": "UeGmCPWcEobA"
      }
    },
    {
      "cell_type": "code",
      "source": [
        "nums = [10, 20, 30]\n",
        "words = [\"apple\", \"banana\", \"cherry\"]\n",
        "mixed = [42, \"hello\", 3.14, True]\n",
        "empty = []\n"
      ],
      "metadata": {
        "id": "900LkjhuEp0k"
      },
      "execution_count": null,
      "outputs": []
    },
    {
      "cell_type": "markdown",
      "source": [
        "Indexing & slicing\n",
        "\n",
        "Indexing starts at 0.\n",
        "\n",
        "Negative indexes count from the end."
      ],
      "metadata": {
        "id": "vNJHlGo3ExzO"
      }
    },
    {
      "cell_type": "code",
      "source": [
        "fruits = [\"apple\", \"banana\", \"cherry\", \"date\"]\n",
        "fruits[0]      # \"apple\"\n",
        "fruits[-1]     # \"date\"\n",
        "fruits[1:3]    # [\"banana\", \"cherry\"]\n",
        "fruits[:2]     # [\"apple\", \"banana\"]\n",
        "fruits[::2]    # every 2nd item -> [\"apple\", \"cherry\"]\n"
      ],
      "metadata": {
        "colab": {
          "base_uri": "https://localhost:8080/"
        },
        "id": "zZKYwyTWE35n",
        "outputId": "2eaaa4ef-92cc-4dbf-ae83-dda49b7f44f5"
      },
      "execution_count": null,
      "outputs": [
        {
          "output_type": "execute_result",
          "data": {
            "text/plain": [
              "['apple', 'cherry']"
            ]
          },
          "metadata": {},
          "execution_count": 6
        }
      ]
    },
    {
      "cell_type": "markdown",
      "source": [
        "Lists are mutable (you can change them)"
      ],
      "metadata": {
        "id": "NQ7V4MpYE8nj"
      }
    },
    {
      "cell_type": "code",
      "source": [
        "nums = [1, 2, 3]\n",
        "nums[1] = 200           # [1, 200, 3] : change index 1 to 200\n",
        "nums.append(4)          # [1, 200, 3, 4] : Add an element to the end of the list\n",
        "nums.extend([5, 6])     # [1, 200, 3, 4, 5, 6] : Add this new list to the end of the list\n",
        "nums.insert(2, 999)     # [1, 200, 999, 3, 4, 5, 6] : Put the number 999 into index 2. It also extends the list without removing the original number that was at that index.\n",
        "del nums[3]             # remove by index -> [1, 200, 999, 4, 5, 6]\n",
        "val = nums.pop()        # pops last (returns it) -> val=6\n",
        "nums.remove(999)        # remove by value (first match)\n",
        "\n",
        "print(nums)\n"
      ],
      "metadata": {
        "id": "xfmb-knQFElk",
        "colab": {
          "base_uri": "https://localhost:8080/"
        },
        "outputId": "44586a0c-5c5d-4444-fdde-1571e09ea2a8"
      },
      "execution_count": 1,
      "outputs": [
        {
          "output_type": "stream",
          "name": "stdout",
          "text": [
            "[1, 200, 4, 5]\n"
          ]
        }
      ]
    },
    {
      "cell_type": "markdown",
      "source": [
        "## Useful operations & functions"
      ],
      "metadata": {
        "id": "N9ffNO1MFK6b"
      }
    },
    {
      "cell_type": "code",
      "source": [
        "x = [3, 1, 2, 3, 2, 3]\n",
        "\n",
        "len(x)          # 6\n",
        "x.count(3)      # 3 (how many 3s)\n",
        "x.index(2)      # 2 (first index of 2)\n",
        "\n",
        "y =sorted(x)       # returns NEW sorted list -> [1, 2, 2, 3, 3, 3]\n",
        "print(x)\n",
        "print(y)\n",
        "x.sort()        # sorts IN PLACE\n",
        "print(x)\n",
        "x.reverse()     # reverse IN PLACE\n",
        "print(x)\n",
        "\n",
        "3 in x          # membership test (True/False)\n",
        "sum([1,2,3])    # 6 (numbers only)\n",
        "min(x), max(x)  # smallest, largest\n"
      ],
      "metadata": {
        "colab": {
          "base_uri": "https://localhost:8080/"
        },
        "id": "u51MkOewFSm5",
        "outputId": "3a795a89-b65e-4356-bd3c-7b321550f743"
      },
      "execution_count": 4,
      "outputs": [
        {
          "output_type": "stream",
          "name": "stdout",
          "text": [
            "[3, 1, 2, 3, 2, 3]\n",
            "[1, 2, 2, 3, 3, 3]\n",
            "[1, 2, 2, 3, 3, 3]\n",
            "[3, 3, 3, 2, 2, 1]\n"
          ]
        },
        {
          "output_type": "execute_result",
          "data": {
            "text/plain": [
              "(1, 3)"
            ]
          },
          "metadata": {},
          "execution_count": 4
        }
      ]
    },
    {
      "cell_type": "markdown",
      "source": [
        "## Looping\n"
      ],
      "metadata": {
        "id": "to05yZEbFZvQ"
      }
    },
    {
      "cell_type": "code",
      "source": [
        "pets = [\"cat\", \"dog\", \"parrot\"]\n",
        "\n",
        "for p in pets:\n",
        "    print(p)\n",
        "\n",
        "for i, p in enumerate(pets):\n",
        "    print(i, p)   # index + value\n"
      ],
      "metadata": {
        "colab": {
          "base_uri": "https://localhost:8080/"
        },
        "id": "Ftuul0LUFiEb",
        "outputId": "c06a0954-775d-4ec6-fee2-412115ed5573"
      },
      "execution_count": null,
      "outputs": [
        {
          "output_type": "stream",
          "name": "stdout",
          "text": [
            "cat\n",
            "dog\n",
            "parrot\n",
            "0 cat\n",
            "1 dog\n",
            "2 parrot\n"
          ]
        }
      ]
    }
  ]
}